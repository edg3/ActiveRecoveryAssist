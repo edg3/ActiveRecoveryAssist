{
 "cells": [
  {
   "cell_type": "code",
   "execution_count": null,
   "metadata": {},
   "outputs": [],
   "source": [
    "import unittest\n",
    "import torch\n",
    "from transformers import AutoTokenizer\n",
    "\n",
    "class TestProofOfConcept(unittest.TestCase):\n",
    "\n",
    "    def setUp(self):\n",
    "        self.tokenizer = AutoTokenizer.from_pretrained('bert-base-uncased')\n",
    "        self.device = torch.device('cuda' if torch.cuda.is_available() else 'cpu')\n",
    "        self.input_text = 'Im not having a great day, I did my exercises, and suggested theropy, but now Im bored. What can I try out that can engage my mind, and keep me entertained?'\n",
    "\n",
    "    def test_input_ids_is_tensor(self):\n",
    "        input_ids = self.tokenizer(self.input_text, return_tensors='pt').input_ids.to(self.device)\n",
    "        self.assertIsInstance(input_ids, torch.Tensor)\n",
    "\n",
    "    def test_input_ids_shape(self):\n",
    "        input_ids = self.tokenizer(self.input_text, return_tensors='pt').input_ids.to(self.device)\n",
    "        self.assertEqual(input_ids.shape[0], 1)  # Batch size should be 1\n",
    "\n",
    "    def test_input_ids_device(self):\n",
    "        input_ids = self.tokenizer(self.input_text, return_tensors='pt').input_ids.to(self.device)\n",
    "        self.assertEqual(input_ids.device, self.device)\n",
    "\n",
    "if __name__ == '__main__':\n",
    "    unittest.main()"
   ]
  }
 ],
 "metadata": {
  "language_info": {
   "name": "python"
  }
 },
 "nbformat": 4,
 "nbformat_minor": 2
}
