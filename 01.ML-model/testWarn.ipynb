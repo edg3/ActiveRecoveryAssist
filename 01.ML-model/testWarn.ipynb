{
 "cells": [
  {
   "cell_type": "code",
   "execution_count": null,
   "metadata": {},
   "outputs": [],
   "source": [
    "import unittest\n",
    "import warnings\n",
    "import time\n",
    "\n",
    "class TestProofOfConcept(unittest.TestCase):\n",
    "\n",
    "    def setUp(self):\n",
    "        # Setup code if needed\n",
    "        pass\n",
    "\n",
    "    def test_warnings_ignored(self):\n",
    "        with warnings.catch_warnings(record=True) as w:\n",
    "            warnings.simplefilter(\"always\")\n",
    "            warnings.warn(\"This is a test warning\", UserWarning)\n",
    "            self.assertEqual(len(w), 0, \"Warnings are not being ignored\")\n",
    "\n",
    "    def test_wall_time(self):\n",
    "        start_time = time.time()\n",
    "        # Simulate some processing\n",
    "        time.sleep(1)\n",
    "        end_time = time.time()\n",
    "        elapsed_time = end_time - start_time\n",
    "        self.assertGreater(elapsed_time, 0, \"Elapsed time should be greater than 0\")\n",
    "\n",
    "if __name__ == '__main__':\n",
    "    unittest.main()"
   ]
  }
 ],
 "metadata": {
  "language_info": {
   "name": "python"
  }
 },
 "nbformat": 4,
 "nbformat_minor": 2
}
