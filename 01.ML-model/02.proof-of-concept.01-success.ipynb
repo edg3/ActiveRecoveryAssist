{
 "cells": [
  {
   "cell_type": "markdown",
   "id": "22563e97",
   "metadata": {},
   "source": [
    "# Reasoning\n",
    "\n",
    "## Why was this chosen?\n",
    "\n",
    "Unfortunately, with the AI *.ipynb* files losing working code too fast at the moment, it means copilot has a lot of old flawed examples to help with. It will take more than the hackathon time to get the right solution together using the model I wanted to use.\n",
    "\n",
    "That being said, there are at least models that can fit [Qwen/Qwen2.5-1.5B-Instruct](https://huggingface.co/Qwen/Qwen2.5-1.5B-Instruct) should be a good model to train as the assistant (training in the future should be fine from copliot generated code in *01*, just needs work, mostly on prompts my side). We shall see in the future."
   ]
  },
  {
   "cell_type": "code",
   "execution_count": 2,
   "id": "17968e7a",
   "metadata": {},
   "outputs": [
    {
     "name": "stdout",
     "output_type": "stream",
     "text": [
      "CPU times: user 27 µs, sys: 4 µs, total: 31 µs\n",
      "Wall time: 35.3 µs\n"
     ]
    }
   ],
   "source": [
    "%%time\n",
    "# Hide Warnings\n",
    "import warnings\n",
    "warnings.filterwarnings('ignore')"
   ]
  },
  {
   "cell_type": "code",
   "execution_count": 3,
   "id": "88d03a6b",
   "metadata": {},
   "outputs": [],
   "source": [
    "import os\n",
    "import torch\n",
    "MODEL_NAME = 'Qwen/Qwen2.5-1.5B-Instruct'\n",
    "os.environ['CUDA_VISIBLE_DEVICES'] ='0'\n",
    "device = torch.device('cuda:0' if torch.cuda.is_available() else 'cpu')"
   ]
  },
  {
   "cell_type": "code",
   "execution_count": 4,
   "id": "f85f0587",
   "metadata": {},
   "outputs": [
    {
     "data": {
      "application/vnd.jupyter.widget-view+json": {
       "model_id": "3f093f60c12e429b8b922f0b77cc2f57",
       "version_major": 2,
       "version_minor": 0
      },
      "text/plain": [
       "tokenizer_config.json:   0%|          | 0.00/7.30k [00:00<?, ?B/s]"
      ]
     },
     "metadata": {},
     "output_type": "display_data"
    },
    {
     "data": {
      "application/vnd.jupyter.widget-view+json": {
       "model_id": "7543df447c7548d388b32fd8f48dbcf7",
       "version_major": 2,
       "version_minor": 0
      },
      "text/plain": [
       "vocab.json:   0%|          | 0.00/2.78M [00:00<?, ?B/s]"
      ]
     },
     "metadata": {},
     "output_type": "display_data"
    },
    {
     "data": {
      "application/vnd.jupyter.widget-view+json": {
       "model_id": "03f2a96134a74c53bb4f19d1288ed2d7",
       "version_major": 2,
       "version_minor": 0
      },
      "text/plain": [
       "merges.txt:   0%|          | 0.00/1.67M [00:00<?, ?B/s]"
      ]
     },
     "metadata": {},
     "output_type": "display_data"
    },
    {
     "data": {
      "application/vnd.jupyter.widget-view+json": {
       "model_id": "cc549937569a499d85bee80928946b1d",
       "version_major": 2,
       "version_minor": 0
      },
      "text/plain": [
       "tokenizer.json:   0%|          | 0.00/7.03M [00:00<?, ?B/s]"
      ]
     },
     "metadata": {},
     "output_type": "display_data"
    },
    {
     "data": {
      "application/vnd.jupyter.widget-view+json": {
       "model_id": "c08627535b024d32b98502ef92a297d0",
       "version_major": 2,
       "version_minor": 0
      },
      "text/plain": [
       "config.json:   0%|          | 0.00/660 [00:00<?, ?B/s]"
      ]
     },
     "metadata": {},
     "output_type": "display_data"
    },
    {
     "name": "stderr",
     "output_type": "stream",
     "text": [
      "2024-11-13 07:54:46.225512: E external/local_xla/xla/stream_executor/cuda/cuda_fft.cc:485] Unable to register cuFFT factory: Attempting to register factory for plugin cuFFT when one has already been registered\n",
      "2024-11-13 07:54:46.237686: E external/local_xla/xla/stream_executor/cuda/cuda_dnn.cc:8454] Unable to register cuDNN factory: Attempting to register factory for plugin cuDNN when one has already been registered\n",
      "2024-11-13 07:54:46.241202: E external/local_xla/xla/stream_executor/cuda/cuda_blas.cc:1452] Unable to register cuBLAS factory: Attempting to register factory for plugin cuBLAS when one has already been registered\n",
      "2024-11-13 07:54:46.251238: I tensorflow/core/platform/cpu_feature_guard.cc:210] This TensorFlow binary is optimized to use available CPU instructions in performance-critical operations.\n",
      "To enable the following instructions: AVX2 FMA, in other operations, rebuild TensorFlow with the appropriate compiler flags.\n",
      "2024-11-13 07:54:53.234042: W tensorflow/compiler/tf2tensorrt/utils/py_utils.cc:38] TF-TRT Warning: Could not find TensorRT\n"
     ]
    },
    {
     "data": {
      "application/vnd.jupyter.widget-view+json": {
       "model_id": "d8ca91495e9f4dad872439d7f456a0b4",
       "version_major": 2,
       "version_minor": 0
      },
      "text/plain": [
       "model.safetensors:   0%|          | 0.00/3.09G [00:00<?, ?B/s]"
      ]
     },
     "metadata": {},
     "output_type": "display_data"
    },
    {
     "data": {
      "application/vnd.jupyter.widget-view+json": {
       "model_id": "f5c922f6c1bc42d39dd35ca269ef0719",
       "version_major": 2,
       "version_minor": 0
      },
      "text/plain": [
       "generation_config.json:   0%|          | 0.00/242 [00:02<?, ?B/s]"
      ]
     },
     "metadata": {},
     "output_type": "display_data"
    },
    {
     "name": "stdout",
     "output_type": "stream",
     "text": [
      "CPU times: user 22.4 s, sys: 13.1 s, total: 35.4 s\n",
      "Wall time: 6min 49s\n"
     ]
    }
   ],
   "source": [
    "%%time\n",
    "# Load the Model\n",
    "from transformers import AutoTokenizer, AutoModelForCausalLM\n",
    "\n",
    "tokenizer = AutoTokenizer.from_pretrained(MODEL_NAME)\n",
    "model = AutoModelForCausalLM.from_pretrained(MODEL_NAME).to(device)"
   ]
  },
  {
   "cell_type": "code",
   "execution_count": 5,
   "id": "b7dc8aff",
   "metadata": {},
   "outputs": [
    {
     "name": "stdout",
     "output_type": "stream",
     "text": [
      "CPU times: user 6.45 ms, sys: 13.9 ms, total: 20.4 ms\n",
      "Wall time: 2.09 s\n"
     ]
    }
   ],
   "source": [
    "%%time\n",
    "input_text = 'Im not having a great day, I did my exercises, and suggested theropy, but now Im bored. What can I try out that can engage my mind, and keep me entertained?'\n",
    "input_ids = tokenizer(input_text, return_tensors='pt').input_ids.to(device)"
   ]
  },
  {
   "cell_type": "code",
   "execution_count": 6,
   "id": "42837217",
   "metadata": {},
   "outputs": [
    {
     "name": "stderr",
     "output_type": "stream",
     "text": [
      "The attention mask is not set and cannot be inferred from input because pad token is same as eos token. As a consequence, you may observe unexpected behavior. Please pass your input's `attention_mask` to obtain reliable results.\n"
     ]
    },
    {
     "name": "stdout",
     "output_type": "stream",
     "text": [
      "CPU times: user 18.6 s, sys: 578 ms, total: 19.2 s\n",
      "Wall time: 1min 35s\n"
     ]
    }
   ],
   "source": [
    "%%time\n",
    "generated_ids = model.generate(input_ids, max_length=1024)"
   ]
  },
  {
   "cell_type": "code",
   "execution_count": 7,
   "id": "a5161b1d",
   "metadata": {},
   "outputs": [
    {
     "name": "stdout",
     "output_type": "stream",
     "text": [
      "Im not having a great day, I did my exercises, and suggested theropy, but now Im bored. What can I try out that can engage my mind, and keep me entertained? How do you stay entertained when you have nothing to do?\n",
      "\n",
      "I'm sorry to hear that your day isn't going well! Here are some suggestions for engaging activities:\n",
      "\n",
      "1. Read a book or magazine: Choose something that interests you and spend time reading it.\n",
      "\n",
      "2. Listen to music: Create playlists of songs that make you feel happy or energized.\n",
      "\n",
      "3. Watch movies or TV shows: Pick something new to watch and immerse yourself in the story.\n",
      "\n",
      "4. Learn a new skill: Take online classes or workshops on subjects like painting, cooking, or coding.\n",
      "\n",
      "5. Try a new hobby: Explore things like knitting, gardening, or pottery making.\n",
      "\n",
      "6. Exercise: Go for a walk or run, yoga, or join an exercise class.\n",
      "\n",
      "7. Play games: Challenge friends or family members to board games or video games.\n",
      "\n",
      "8. Volunteer: Find an organization that aligns with your interests and give back to your community.\n",
      "\n",
      "9. Cook: Experiment with different recipes and cuisines from around the world.\n",
      "\n",
      "10. Write: Journal or start a blog about your thoughts and feelings.\n",
      "\n",
      "As for staying entertained when you're stuck at home, here are some tips:\n",
      "\n",
      "- Keep up with news updates and current events.\n",
      "- Connect with loved ones through phone calls, video chats, or social media.\n",
      "- Engage in creative projects like crafting, drawing, or writing.\n",
      "- Stay active by exercising, stretching, or practicing meditation.\n",
      "- Follow interesting blogs, podcasts, or YouTube channels related to topics that interest you.\n",
      "- Attend virtual concerts or performances if possible.\n",
      "- Plan ahead for future entertainment options by watching movies or TV shows before they become available.\n",
      "\n",
      "Remember to take breaks throughout the day to avoid burnout, and don't hesitate to reach out to friends or family members for support and companionship. It's important to prioritize self-care during these times.\n",
      "CPU times: user 9.54 ms, sys: 23.7 ms, total: 33.2 ms\n",
      "Wall time: 2.74 s\n"
     ]
    }
   ],
   "source": [
    "%%time\n",
    "generated_text = tokenizer.decode(generated_ids[0], skip_special_tokens=True)\n",
    "print(generated_text)"
   ]
  },
  {
   "cell_type": "code",
   "execution_count": null,
   "id": "ea5b2aaa",
   "metadata": {},
   "outputs": [],
   "source": []
  }
 ],
 "metadata": {
  "kernelspec": {
   "display_name": "Python 3 (ipykernel)",
   "language": "python",
   "name": "python3"
  },
  "language_info": {
   "codemirror_mode": {
    "name": "ipython",
    "version": 3
   },
   "file_extension": ".py",
   "mimetype": "text/x-python",
   "name": "python",
   "nbconvert_exporter": "python",
   "pygments_lexer": "ipython3",
   "version": "3.12.3"
  }
 },
 "nbformat": 4,
 "nbformat_minor": 5
}
