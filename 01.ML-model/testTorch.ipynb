{
 "cells": [
  {
   "cell_type": "code",
   "execution_count": null,
   "metadata": {},
   "outputs": [],
   "source": [
    "import unittest\n",
    "import os\n",
    "import torch\n",
    "\n",
    "from 01.ML-model.02.proof-of-concept.01-success import MODEL_NAME, device\n",
    "\n",
    "class TestProofOfConcept(unittest.TestCase):\n",
    "\n",
    "    def test_cuda_visible_devices(self):\n",
    "        self.assertEqual(os.environ['CUDA_VISIBLE_DEVICES'], '0')\n",
    "\n",
    "    def test_device_cuda(self):\n",
    "        if torch.cuda.is_available():\n",
    "            self.assertEqual(str(device), 'cuda:0')\n",
    "        else:\n",
    "            self.assertEqual(str(device), 'cpu')\n",
    "\n",
    "    def test_model_name(self):\n",
    "        self.assertEqual(MODEL_NAME, 'Qwen/Qwen2.5-1.5B-Instruct')\n",
    "\n",
    "if __name__ == '__main__':\n",
    "    unittest.main()"
   ]
  }
 ],
 "metadata": {
  "language_info": {
   "name": "python"
  }
 },
 "nbformat": 4,
 "nbformat_minor": 2
}
