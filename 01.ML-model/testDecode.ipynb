{
 "cells": [
  {
   "cell_type": "code",
   "execution_count": null,
   "metadata": {},
   "outputs": [],
   "source": [
    "import unittest\n",
    "from transformers import AutoTokenizer, AutoModelForCausalLM\n",
    "\n",
    "class TestProofOfConcept(unittest.TestCase):\n",
    "\n",
    "    def setUp(self):\n",
    "        self.tokenizer = AutoTokenizer.from_pretrained(\"gpt2\")\n",
    "        self.model = AutoModelForCausalLM.from_pretrained(\"gpt2\")\n",
    "        self.input_ids = self.tokenizer.encode(\"Hello, how are you?\", return_tensors=\"pt\")\n",
    "        self.generated_ids = self.model.generate(self.input_ids, max_length=1024)\n",
    "\n",
    "    def test_generated_text_is_string(self):\n",
    "        generated_text = self.tokenizer.decode(self.generated_ids[0], skip_special_tokens=True)\n",
    "        self.assertIsInstance(generated_text, str)\n",
    "\n",
    "    def test_generated_text_is_not_empty(self):\n",
    "        generated_text = self.tokenizer.decode(self.generated_ids[0], skip_special_tokens=True)\n",
    "        self.assertNotEqual(generated_text, \"\")\n",
    "\n",
    "    def test_generated_text_no_special_tokens(self):\n",
    "        generated_text = self.tokenizer.decode(self.generated_ids[0], skip_special_tokens=True)\n",
    "        self.assertNotIn(\""
   ]
  }
 ],
 "metadata": {
  "language_info": {
   "name": "python"
  }
 },
 "nbformat": 4,
 "nbformat_minor": 2
}
